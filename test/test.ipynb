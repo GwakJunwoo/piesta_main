{
 "cells": [
  {
   "cell_type": "code",
   "execution_count": 2,
   "metadata": {},
   "outputs": [],
   "source": [
    "from piesta.data import Universe\n",
    "#from piesta.optimizer import MeanVarianceOptimizer"
   ]
  },
  {
   "cell_type": "code",
   "execution_count": 3,
   "metadata": {},
   "outputs": [
    {
     "data": {
      "text/plain": [
       "{'Stock': {'Korea': ['Ticker_0', 'Ticker_1'],\n",
       "  'US': ['Ticker_2', 'Ticker_3'],\n",
       "  'Europe': ['Ticker_4', 'Ticker_5'],\n",
       "  'Japan': ['Ticker_6', 'Ticker_7'],\n",
       "  'China': ['Ticker_8', 'Ticker_9']},\n",
       " 'Bond': {'Developed': ['Ticker_10', 'Ticker_11'],\n",
       "  'Emerging': ['Ticker_12', 'Ticker_13']},\n",
       " 'Alternative': {'Real estate': ['Ticker_14', 'Ticker_15'],\n",
       "  'Hedge fund': ['Ticker_16', 'Ticker_17']},\n",
       " 'Commodity': {'Metal': [],\n",
       "  'Grains': ['Ticker_20', 'Ticker_21'],\n",
       "  'Energy': ['Ticker_22', 'Ticker_23']},\n",
       " 'Currency': {'USDKRW': ['Ticker_24', 'Ticker_25'],\n",
       "  'USDJPY': ['Ticker_26', 'Ticker_27'],\n",
       "  'USDEUR': ['Ticker_28', 'Ticker_29']}}"
      ]
     },
     "execution_count": 3,
     "metadata": {},
     "output_type": "execute_result"
    }
   ],
   "source": [
    "invest_univ = Universe()\n",
    "invest_univ.get_universe()"
   ]
  },
  {
   "cell_type": "code",
   "execution_count": 9,
   "metadata": {},
   "outputs": [
    {
     "data": {
      "text/plain": [
       "['Ticker_0',\n",
       " 'Ticker_1',\n",
       " 'Ticker_2',\n",
       " 'Ticker_3',\n",
       " 'Ticker_4',\n",
       " 'Ticker_5',\n",
       " 'Ticker_6',\n",
       " 'Ticker_7',\n",
       " 'Ticker_8',\n",
       " 'Ticker_9',\n",
       " 'Ticker_10',\n",
       " 'Ticker_11',\n",
       " 'Ticker_12',\n",
       " 'Ticker_13',\n",
       " 'Ticker_14',\n",
       " 'Ticker_15',\n",
       " 'Ticker_16',\n",
       " 'Ticker_17',\n",
       " 'Ticker_20',\n",
       " 'Ticker_21',\n",
       " 'Ticker_22',\n",
       " 'Ticker_23',\n",
       " 'Ticker_24',\n",
       " 'Ticker_25',\n",
       " 'Ticker_26',\n",
       " 'Ticker_27',\n",
       " 'Ticker_28',\n",
       " 'Ticker_29']"
      ]
     },
     "execution_count": 9,
     "metadata": {},
     "output_type": "execute_result"
    }
   ],
   "source": [
    "invest_univ.get_last_layer()"
   ]
  },
  {
   "cell_type": "code",
   "execution_count": null,
   "metadata": {},
   "outputs": [
    {
     "ename": "NameError",
     "evalue": "name 'model' is not defined",
     "output_type": "error",
     "traceback": [
      "\u001b[1;31m---------------------------------------------------------------------------\u001b[0m",
      "\u001b[1;31mNameError\u001b[0m                                 Traceback (most recent call last)",
      "\u001b[1;32m~\\AppData\\Local\\Temp\\ipykernel_26496\\3770459423.py\u001b[0m in \u001b[0;36m<module>\u001b[1;34m\u001b[0m\n\u001b[1;32m----> 1\u001b[1;33m \u001b[0mmodel\u001b[0m\u001b[1;33m.\u001b[0m\u001b[0msteps\u001b[0m\u001b[1;33m\u001b[0m\u001b[0m\n\u001b[0m",
      "\u001b[1;31mNameError\u001b[0m: name 'model' is not defined"
     ]
    }
   ],
   "source": [
    "import piesta.pipeline"
   ]
  },
  {
   "cell_type": "code",
   "execution_count": null,
   "metadata": {},
   "outputs": [
    {
     "ename": "NameError",
     "evalue": "name 'piesta' is not defined",
     "output_type": "error",
     "traceback": [
      "\u001b[1;31m---------------------------------------------------------------------------\u001b[0m",
      "\u001b[1;31mNameError\u001b[0m                                 Traceback (most recent call last)",
      "\u001b[1;32m~\\AppData\\Local\\Temp\\ipykernel_24588\\2959809559.py\u001b[0m in \u001b[0;36m<module>\u001b[1;34m\u001b[0m\n\u001b[1;32m----> 1\u001b[1;33m model = piesta.pipeline.Portfolio_Pipeline([('SAA', MeanVarianceOptimizer(), {\"rf_rate\":'UST10YR',}),\n\u001b[0m\u001b[0;32m      2\u001b[0m          \u001b[1;33m(\u001b[0m\u001b[1;34m'TAA'\u001b[0m\u001b[1;33m,\u001b[0m \u001b[0mMeanVarianceOptimizer\u001b[0m\u001b[1;33m(\u001b[0m\u001b[1;33m)\u001b[0m\u001b[1;33m,\u001b[0m \u001b[1;33m{\u001b[0m\u001b[1;34m\"rf_rate\"\u001b[0m\u001b[1;33m:\u001b[0m\u001b[1;34m'UST2YR'\u001b[0m\u001b[1;33m,\u001b[0m\u001b[1;34m\"prior\"\u001b[0m\u001b[1;33m:\u001b[0m\u001b[1;34m'prior_strat'\u001b[0m\u001b[1;33m}\u001b[0m\u001b[1;33m)\u001b[0m\u001b[1;33m,\u001b[0m\u001b[1;33m\u001b[0m\u001b[0m\n\u001b[0;32m      3\u001b[0m          ('AP', MeanVarianceOptimizer(), {\"rf_rate\":'UST3MO',})])\n",
      "\u001b[1;31mNameError\u001b[0m: name 'piesta' is not defined"
     ]
    }
   ],
   "source": [
    "model = piesta.pipeline.Portfolio_Pipeline([('SAA', MeanVarianceOptimizer(), {\"rf_rate\":'UST10YR',}),\n",
    "         ('TAA', MeanVarianceOptimizer(), {\"rf_rate\":'UST2YR',\"prior\":'prior_strat'}),\n",
    "         ('AP', MeanVarianceOptimizer(), {\"rf_rate\":'UST3MO',})])"
   ]
  },
  {
   "cell_type": "code",
   "execution_count": null,
   "metadata": {},
   "outputs": [],
   "source": [
    "model.set_universe(invest_univ)"
   ]
  },
  {
   "cell_type": "code",
   "execution_count": null,
   "metadata": {},
   "outputs": [],
   "source": [
    "model.plot_pipeline()"
   ]
  },
  {
   "cell_type": "code",
   "execution_count": null,
   "metadata": {},
   "outputs": [
    {
     "data": {
      "text/plain": [
       "<module 'piesta.pipeline.pipeline' from 'c:\\\\Users\\\\tasty\\\\piesta\\\\piesta\\\\piesta\\\\pipeline\\\\pipeline.py'>"
      ]
     },
     "execution_count": 14,
     "metadata": {},
     "output_type": "execute_result"
    }
   ],
   "source": [
    "import imp\n",
    "imp.reload(piesta.pipeline)"
   ]
  },
  {
   "cell_type": "code",
   "execution_count": null,
   "metadata": {},
   "outputs": [],
   "source": [
    "x = [('SAA', \"GBI\", {\"rf_rate\":'UST10YR',}),\n",
    "    ('TAA', \"Black_Litterman\", {\"rf_rate\":'UST2YR',\"prior\":\"prior\"}),\n",
    "    ('AP', \"MVO\", {\"rf_rate\":'UST3MO',})]"
   ]
  },
  {
   "cell_type": "code",
   "execution_count": null,
   "metadata": {},
   "outputs": [],
   "source": []
  }
 ],
 "metadata": {
  "kernelspec": {
   "display_name": "AFML2",
   "language": "python",
   "name": "python3"
  },
  "language_info": {
   "codemirror_mode": {
    "name": "ipython",
    "version": 3
   },
   "file_extension": ".py",
   "mimetype": "text/x-python",
   "name": "python",
   "nbconvert_exporter": "python",
   "pygments_lexer": "ipython3",
   "version": "3.7.0"
  },
  "orig_nbformat": 4,
  "vscode": {
   "interpreter": {
    "hash": "5eb8228ba3c7276b0d68ad0b5b6f02b5a3d3a970c089049b4b76c3c44b380a2d"
   }
  }
 },
 "nbformat": 4,
 "nbformat_minor": 2
}
